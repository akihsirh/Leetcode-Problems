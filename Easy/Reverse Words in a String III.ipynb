{
 "cells": [
  {
   "cell_type": "markdown",
   "metadata": {},
   "source": [
    "## Reverse Words in a string III"
   ]
  },
  {
   "cell_type": "markdown",
   "metadata": {},
   "source": [
    "Given a string, you need to reverse the order of characters in each word within a sentence while still preserving whitespace and initial word order.\n",
    "\n",
    "Example 1:\n",
    "- Input: \"Let's take LeetCode contest\"\n",
    "- Output: \"s'teL ekat edoCteeL tsetnoc\"\n",
    "\n",
    "Note: In the string, each word is separated by single space and there will not be any extra space in the string."
   ]
  },
  {
   "cell_type": "markdown",
   "metadata": {},
   "source": [
    "### Basic Solution"
   ]
  },
  {
   "cell_type": "code",
   "execution_count": 9,
   "metadata": {},
   "outputs": [
    {
     "name": "stdout",
     "output_type": "stream",
     "text": [
      "s'teL ekat edoCteeL tsetnoc\n"
     ]
    }
   ],
   "source": [
    "def rev_words_III(string):\n",
    "    split_sent = string.split()\n",
    "    rev_list = list()\n",
    "    for word in split_sent:\n",
    "        rev_list.append(word[::-1])\n",
    "    return ' '.join(rev_list)\n",
    "\n",
    "print(rev_words_III(\"Let's take LeetCode contest\"))"
   ]
  },
  {
   "cell_type": "markdown",
   "metadata": {},
   "source": [
    "### One loop traversal solution"
   ]
  },
  {
   "cell_type": "markdown",
   "metadata": {},
   "source": [
    "The question specifically mentions that every word is seperated by a space and there wont be an extra space. Therefore we can use that within a condition. "
   ]
  },
  {
   "cell_type": "code",
   "execution_count": 14,
   "metadata": {},
   "outputs": [
    {
     "name": "stdout",
     "output_type": "stream",
     "text": [
      "s'teL ekat edoCteeL tsetnoc\n"
     ]
    }
   ],
   "source": [
    "def reverseWords(s: str):\n",
    "        rev_list = list()\n",
    "        rev_string = \"\"\n",
    "        for char in s:\n",
    "            if char == ' ':\n",
    "                rev_list.append(rev_string)\n",
    "                rev_string = \"\"\n",
    "            else:\n",
    "                rev_string = char + rev_string\n",
    "                \n",
    "        #Append last reversed word\n",
    "        rev_list.append(rev_string)\n",
    "        return \" \".join(rev_list)\n",
    "\n",
    "print(reverseWords(\"Let's take LeetCode contest\"))"
   ]
  }
 ],
 "metadata": {
  "kernelspec": {
   "display_name": "Python 3",
   "language": "python",
   "name": "python3"
  },
  "language_info": {
   "codemirror_mode": {
    "name": "ipython",
    "version": 3
   },
   "file_extension": ".py",
   "mimetype": "text/x-python",
   "name": "python",
   "nbconvert_exporter": "python",
   "pygments_lexer": "ipython3",
   "version": "3.7.4"
  }
 },
 "nbformat": 4,
 "nbformat_minor": 2
}
